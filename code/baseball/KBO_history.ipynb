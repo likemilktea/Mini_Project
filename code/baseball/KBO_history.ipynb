{
 "cells": [
  {
   "attachments": {},
   "cell_type": "markdown",
   "metadata": {},
   "source": [
    "### 라이브러리 불러오기"
   ]
  },
  {
   "cell_type": "code",
   "execution_count": 3,
   "metadata": {},
   "outputs": [],
   "source": [
    "from selenium import webdriver\n",
    "from selenium.webdriver.common.by import By\n",
    "from flask import Flask, render_template\n",
    "import pandas as pd"
   ]
  },
  {
   "attachments": {},
   "cell_type": "markdown",
   "metadata": {},
   "source": [
    "### 네이버에서 야구 정보를 가져오기"
   ]
  },
  {
   "cell_type": "code",
   "execution_count": 1,
   "metadata": {},
   "outputs": [
    {
     "name": "stderr",
     "output_type": "stream",
     "text": [
      "C:\\Users\\user\\AppData\\Local\\Temp\\ipykernel_5688\\2846975370.py:37: DeprecationWarning: executable_path has been deprecated, please pass in a Service object\n",
      "  with webdriver.Chrome(executable_path=chrome_driver_path) as driver:\n"
     ]
    }
   ],
   "source": [
    "record_list=[]\n",
    "\n",
    "class Record():\n",
    "    def __init__(self,tuple10):\n",
    "        self.name=tuple10[0]\n",
    "        self.ranking=tuple10[1]\n",
    "        self.year=tuple10[2]\n",
    "        self.plays=tuple10[3]\n",
    "        self.wins=tuple10[4]\n",
    "        self.losses=tuple10[5]\n",
    "        self.win_rate=tuple10[6]\n",
    "        self.draws=tuple10[7]\n",
    "        self.obp=tuple10[8]\n",
    "        self.slg=tuple10[9] \n",
    "        \n",
    "    \n",
    "def get_info(ranking,team_list,i,year):\n",
    "    name=team_list[i+1].text\n",
    "    ranking=ranking\n",
    "    year=year\n",
    "    plays=int(team_list[i+2].text)\n",
    "    wins=int(team_list[i+3].text)\n",
    "    losses=int(team_list[i+4].text)\n",
    "    win_rate=wins/(plays-losses)\n",
    "    draws=int(team_list[i+5].text)\n",
    "    obp=float(team_list[i+8].text)\n",
    "    slg=float(team_list[i+9].text)\n",
    "    return name,ranking,year,plays,wins,losses,win_rate,draws,obp,slg\n",
    "\n",
    "    \n",
    "chrome_driver_path = 'etc/chromedriver.exe' \n",
    "\n",
    "with webdriver.Chrome(executable_path=chrome_driver_path) as driver:\n",
    "    for i in range(1991,2024):\n",
    "        adress=\"https://sports.news.naver.com/kbaseball/record/index?category=kbo&year=\"+str(i)\n",
    "        \n",
    "        driver.get(adress)\n",
    "\n",
    "        # 페이지에서 롯데 정보 긁기\n",
    "        tr=driver.find_element(By.CLASS_NAME, \"tbl_box\")\n",
    "        team_list=tr.find_elements(By.TAG_NAME, 'span')\n",
    "\n",
    "        year=driver.find_element(By.XPATH,'//*[@id=\"_currentYearButton\"]/em').text\n",
    "        year=int(year.replace('선택된 시즌\\n',''))\n",
    "        \n",
    "        checking_start, checking_end = 12, 100\n",
    "        if year in (2013,2014):\n",
    "            checking_end+=11\n",
    "        elif year > 2014:\n",
    "            checking_end+=22\n",
    "        ranking=0\n",
    "        for i in range(checking_start,checking_end,11):\n",
    "            ranking+=1\n",
    "            record=Record( \n",
    "                get_info(ranking,team_list,i,year)\n",
    "            )\n",
    "            record_list.append(record)"
   ]
  },
  {
   "attachments": {},
   "cell_type": "markdown",
   "metadata": {},
   "source": [
    "### csv파일로 저장"
   ]
  },
  {
   "cell_type": "code",
   "execution_count": 6,
   "metadata": {},
   "outputs": [],
   "source": [
    "df = pd.DataFrame([record.__dict__ for record in record_list])\n",
    "\n",
    "# CSV 파일에 데이터 저장\n",
    "filename = 'Playball_1991_2023.csv'\n",
    "df.to_csv(filename, index=False)"
   ]
  },
  {
   "attachments": {},
   "cell_type": "markdown",
   "metadata": {},
   "source": [
    "### csv파일 불러오기"
   ]
  },
  {
   "cell_type": "code",
   "execution_count": 4,
   "metadata": {},
   "outputs": [
    {
     "data": {
      "text/html": [
       "<div>\n",
       "<style scoped>\n",
       "    .dataframe tbody tr th:only-of-type {\n",
       "        vertical-align: middle;\n",
       "    }\n",
       "\n",
       "    .dataframe tbody tr th {\n",
       "        vertical-align: top;\n",
       "    }\n",
       "\n",
       "    .dataframe thead th {\n",
       "        text-align: right;\n",
       "    }\n",
       "</style>\n",
       "<table border=\"1\" class=\"dataframe\">\n",
       "  <thead>\n",
       "    <tr style=\"text-align: right;\">\n",
       "      <th></th>\n",
       "      <th>name</th>\n",
       "      <th>ranking</th>\n",
       "      <th>year</th>\n",
       "      <th>plays</th>\n",
       "      <th>wins</th>\n",
       "      <th>losses</th>\n",
       "      <th>draws</th>\n",
       "      <th>obp</th>\n",
       "      <th>slg</th>\n",
       "      <th>win_rate</th>\n",
       "    </tr>\n",
       "  </thead>\n",
       "  <tbody>\n",
       "    <tr>\n",
       "      <th>0</th>\n",
       "      <td>해태</td>\n",
       "      <td>1</td>\n",
       "      <td>1991</td>\n",
       "      <td>126</td>\n",
       "      <td>79</td>\n",
       "      <td>42</td>\n",
       "      <td>5</td>\n",
       "      <td>0.350</td>\n",
       "      <td>0.418</td>\n",
       "      <td>0.653</td>\n",
       "    </tr>\n",
       "    <tr>\n",
       "      <th>1</th>\n",
       "      <td>빙그레</td>\n",
       "      <td>2</td>\n",
       "      <td>1991</td>\n",
       "      <td>126</td>\n",
       "      <td>72</td>\n",
       "      <td>49</td>\n",
       "      <td>5</td>\n",
       "      <td>0.353</td>\n",
       "      <td>0.433</td>\n",
       "      <td>0.595</td>\n",
       "    </tr>\n",
       "    <tr>\n",
       "      <th>2</th>\n",
       "      <td>삼성</td>\n",
       "      <td>3</td>\n",
       "      <td>1991</td>\n",
       "      <td>126</td>\n",
       "      <td>70</td>\n",
       "      <td>55</td>\n",
       "      <td>1</td>\n",
       "      <td>0.357</td>\n",
       "      <td>0.405</td>\n",
       "      <td>0.560</td>\n",
       "    </tr>\n",
       "    <tr>\n",
       "      <th>3</th>\n",
       "      <td>롯데</td>\n",
       "      <td>4</td>\n",
       "      <td>1991</td>\n",
       "      <td>126</td>\n",
       "      <td>61</td>\n",
       "      <td>62</td>\n",
       "      <td>3</td>\n",
       "      <td>0.339</td>\n",
       "      <td>0.378</td>\n",
       "      <td>0.496</td>\n",
       "    </tr>\n",
       "    <tr>\n",
       "      <th>4</th>\n",
       "      <td>태평양</td>\n",
       "      <td>5</td>\n",
       "      <td>1991</td>\n",
       "      <td>126</td>\n",
       "      <td>55</td>\n",
       "      <td>69</td>\n",
       "      <td>2</td>\n",
       "      <td>0.313</td>\n",
       "      <td>0.337</td>\n",
       "      <td>0.444</td>\n",
       "    </tr>\n",
       "    <tr>\n",
       "      <th>...</th>\n",
       "      <td>...</td>\n",
       "      <td>...</td>\n",
       "      <td>...</td>\n",
       "      <td>...</td>\n",
       "      <td>...</td>\n",
       "      <td>...</td>\n",
       "      <td>...</td>\n",
       "      <td>...</td>\n",
       "      <td>...</td>\n",
       "      <td>...</td>\n",
       "    </tr>\n",
       "    <tr>\n",
       "      <th>279</th>\n",
       "      <td>KIA</td>\n",
       "      <td>6</td>\n",
       "      <td>2023</td>\n",
       "      <td>33</td>\n",
       "      <td>16</td>\n",
       "      <td>17</td>\n",
       "      <td>0</td>\n",
       "      <td>0.330</td>\n",
       "      <td>0.345</td>\n",
       "      <td>0.485</td>\n",
       "    </tr>\n",
       "    <tr>\n",
       "      <th>280</th>\n",
       "      <td>키움</td>\n",
       "      <td>7</td>\n",
       "      <td>2023</td>\n",
       "      <td>39</td>\n",
       "      <td>17</td>\n",
       "      <td>22</td>\n",
       "      <td>0</td>\n",
       "      <td>0.328</td>\n",
       "      <td>0.354</td>\n",
       "      <td>0.436</td>\n",
       "    </tr>\n",
       "    <tr>\n",
       "      <th>281</th>\n",
       "      <td>삼성</td>\n",
       "      <td>8</td>\n",
       "      <td>2023</td>\n",
       "      <td>35</td>\n",
       "      <td>15</td>\n",
       "      <td>20</td>\n",
       "      <td>0</td>\n",
       "      <td>0.322</td>\n",
       "      <td>0.352</td>\n",
       "      <td>0.429</td>\n",
       "    </tr>\n",
       "    <tr>\n",
       "      <th>282</th>\n",
       "      <td>한화</td>\n",
       "      <td>9</td>\n",
       "      <td>2023</td>\n",
       "      <td>37</td>\n",
       "      <td>13</td>\n",
       "      <td>22</td>\n",
       "      <td>2</td>\n",
       "      <td>0.308</td>\n",
       "      <td>0.314</td>\n",
       "      <td>0.371</td>\n",
       "    </tr>\n",
       "    <tr>\n",
       "      <th>283</th>\n",
       "      <td>KT</td>\n",
       "      <td>10</td>\n",
       "      <td>2023</td>\n",
       "      <td>36</td>\n",
       "      <td>10</td>\n",
       "      <td>24</td>\n",
       "      <td>2</td>\n",
       "      <td>0.333</td>\n",
       "      <td>0.360</td>\n",
       "      <td>0.294</td>\n",
       "    </tr>\n",
       "  </tbody>\n",
       "</table>\n",
       "<p>284 rows × 10 columns</p>\n",
       "</div>"
      ],
      "text/plain": [
       "    name  ranking  year  plays  wins  losses  draws    obp    slg  win_rate\n",
       "0     해태        1  1991    126    79      42      5  0.350  0.418     0.653\n",
       "1    빙그레        2  1991    126    72      49      5  0.353  0.433     0.595\n",
       "2     삼성        3  1991    126    70      55      1  0.357  0.405     0.560\n",
       "3     롯데        4  1991    126    61      62      3  0.339  0.378     0.496\n",
       "4    태평양        5  1991    126    55      69      2  0.313  0.337     0.444\n",
       "..   ...      ...   ...    ...   ...     ...    ...    ...    ...       ...\n",
       "279  KIA        6  2023     33    16      17      0  0.330  0.345     0.485\n",
       "280   키움        7  2023     39    17      22      0  0.328  0.354     0.436\n",
       "281   삼성        8  2023     35    15      20      0  0.322  0.352     0.429\n",
       "282   한화        9  2023     37    13      22      2  0.308  0.314     0.371\n",
       "283   KT       10  2023     36    10      24      2  0.333  0.360     0.294\n",
       "\n",
       "[284 rows x 10 columns]"
      ]
     },
     "execution_count": 4,
     "metadata": {},
     "output_type": "execute_result"
    }
   ],
   "source": [
    "df=pd.read_csv(\"csv/Playball_1991_2023.csv\")\n",
    "df"
   ]
  },
  {
   "cell_type": "code",
   "execution_count": 11,
   "metadata": {},
   "outputs": [
    {
     "data": {
      "text/plain": [
       "wins      1973\n",
       "losses    2211\n",
       "Name: 롯데, dtype: int64"
      ]
     },
     "execution_count": 11,
     "metadata": {},
     "output_type": "execute_result"
    }
   ],
   "source": [
    "group_df=df[['name','wins','losses']].groupby('name').sum()\n",
    "group_df.loc['롯데']"
   ]
  },
  {
   "attachments": {},
   "cell_type": "markdown",
   "metadata": {},
   "source": [
    "### Flask 웹 구동"
   ]
  },
  {
   "cell_type": "code",
   "execution_count": 20,
   "metadata": {},
   "outputs": [
    {
     "name": "stdout",
     "output_type": "stream",
     "text": [
      " * Serving Flask app \"__main__\" (lazy loading)\n",
      " * Environment: production\n",
      "\u001b[31m   WARNING: This is a development server. Do not use it in a production deployment.\u001b[0m\n",
      "\u001b[2m   Use a production WSGI server instead.\u001b[0m\n",
      " * Debug mode: off\n"
     ]
    },
    {
     "name": "stderr",
     "output_type": "stream",
     "text": [
      " * Running on http://127.0.0.1:5000/ (Press CTRL+C to quit)\n",
      "127.0.0.1 - - [19/May/2023 02:47:56] \"GET / HTTP/1.1\" 200 -\n",
      "127.0.0.1 - - [19/May/2023 02:47:57] \"GET / HTTP/1.1\" 200 -\n",
      "127.0.0.1 - - [19/May/2023 02:47:59] \"GET / HTTP/1.1\" 200 -\n"
     ]
    }
   ],
   "source": [
    "\n",
    "\n",
    "app = Flask(__name__)\n",
    "\n",
    "@app.route('/')\n",
    "def home():\n",
    "    # 야구 정보 데이터프레임\n",
    "    records = df.to_dict('records')\n",
    "    \n",
    "    return render_template('index.html', records=records)\n",
    "\n",
    "if __name__ == '__main__':\n",
    "    app.run()"
   ]
  }
 ],
 "metadata": {
  "kernelspec": {
   "display_name": "base",
   "language": "python",
   "name": "python3"
  },
  "language_info": {
   "codemirror_mode": {
    "name": "ipython",
    "version": 3
   },
   "file_extension": ".py",
   "mimetype": "text/x-python",
   "name": "python",
   "nbconvert_exporter": "python",
   "pygments_lexer": "ipython3",
   "version": "3.9.13"
  },
  "orig_nbformat": 4
 },
 "nbformat": 4,
 "nbformat_minor": 2
}
